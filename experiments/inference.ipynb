{
 "cells": [
  {
   "cell_type": "code",
   "execution_count": null,
   "metadata": {},
   "outputs": [],
   "source": [
    "%load_ext autoreload\n",
    "%autoreload 2\n",
    "import os\n",
    "os.chdir('../')\n",
    "import numpy as np\n",
    "import matplotlib.pyplot as plt\n",
    "from models.model_wrappers import OpenClipWrapper, OpenFlamingoWrapper\n",
    "from benchmarks.benchmark_wrappers import instantiate_benchmarks\n",
    "from collections import defaultdict"
   ]
  },
  {
   "cell_type": "code",
   "execution_count": null,
   "metadata": {},
   "outputs": [],
   "source": [
    "models = [OpenClipWrapper()]\n",
    "benchmarks = instantiate_benchmarks()"
   ]
  },
  {
   "cell_type": "code",
   "execution_count": null,
   "metadata": {},
   "outputs": [
    {
     "name": "stderr",
     "output_type": "stream",
     "text": [
      "  0%|          | 0/400 [00:00<?, ?it/s]c:\\Users\\hoshelee\\.conda\\envs\\fomo-vlm-comp\\lib\\site-packages\\torch\\amp\\autocast_mode.py:204: UserWarning: User provided device_type of 'cuda', but CUDA is not available. Disabling\n",
      "  warnings.warn('User provided device_type of \\'cuda\\', but CUDA is not available. Disabling')\n",
      " 84%|████████▎ | 334/400 [05:33<02:37,  2.39s/it]"
     ]
    }
   ],
   "source": [
    "results = defaultdict(dict)\n",
    "for model in models:\n",
    "    for benchmark in benchmarks:\n",
    "        result = benchmark.evaluate(model)\n",
    "        print(f'{model.name:<5} {benchmark.name:<13} {result}')\n",
    "        results[model.name][benchmark.name] = result\n",
    "\n",
    "print(results)"
   ]
  },
  {
   "cell_type": "code",
   "execution_count": null,
   "metadata": {},
   "outputs": [],
   "source": []
  }
 ],
 "metadata": {
  "kernelspec": {
   "display_name": "fomo-vlm-comp",
   "language": "python",
   "name": "python3"
  },
  "language_info": {
   "codemirror_mode": {
    "name": "ipython",
    "version": 3
   },
   "file_extension": ".py",
   "mimetype": "text/x-python",
   "name": "python",
   "nbconvert_exporter": "python",
   "pygments_lexer": "ipython3",
   "version": "3.10.12"
  }
 },
 "nbformat": 4,
 "nbformat_minor": 2
}
